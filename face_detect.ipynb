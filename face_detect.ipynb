{
 "cells": [
  {
   "cell_type": "code",
   "execution_count": null,
   "metadata": {},
   "outputs": [],
   "source": []
  }
 ],
 "metadata": {
  "kernelspec": {
   "display_name": "Python 3.8.13 ('titanic')",
   "language": "python",
   "name": "python3"
  },
  "language_info": {
   "name": "python",
   "version": "3.8.13"
  },
  "orig_nbformat": 4,
  "vscode": {
   "interpreter": {
    "hash": "da0c1a6ed771a2b5c801e026af5d9aff0f025766fa8cddfed6c4e2595c28fe55"
   }
  }
 },
 "nbformat": 4,
 "nbformat_minor": 2
}

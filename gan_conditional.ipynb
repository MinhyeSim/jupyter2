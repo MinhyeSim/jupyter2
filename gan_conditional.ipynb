{
 "cells": [
  {
   "cell_type": "markdown",
   "id": "9276fdcc",
   "metadata": {},
   "source": [
    "### 조건부 GAN에 관한 데이터 가져오기"
   ]
  },
  {
   "cell_type": "code",
   "execution_count": 10,
   "id": "ce258279",
   "metadata": {},
   "outputs": [
    {
     "name": "stdout",
     "output_type": "stream",
     "text": [
      "Unexpected exception formatting exception. Falling back to standard exception\n"
     ]
    },
    {
     "name": "stderr",
     "output_type": "stream",
     "text": [
      "Traceback (most recent call last):\n",
      "  File \"c:\\ProgramData\\Anaconda3\\envs\\titanic\\lib\\site-packages\\IPython\\core\\interactiveshell.py\", line 3397, in run_code\n",
      "    exec(code_obj, self.user_global_ns, self.user_ns)\n",
      "  File \"C:\\Users\\tep01\\AppData\\Local\\Temp\\ipykernel_30584\\2730227770.py\", line 1, in <cell line: 1>\n",
      "    import tensorflow as tf\n",
      "  File \"c:\\ProgramData\\Anaconda3\\envs\\titanic\\lib\\site-packages\\tensorflow\\__init__.py\", line 41, in <module>\n",
      "    from tensorflow.python.tools import module_util as _module_util\n",
      "  File \"c:\\ProgramData\\Anaconda3\\envs\\titanic\\lib\\site-packages\\tensorflow\\python\\__init__.py\", line 46, in <module>\n",
      "    from tensorflow.python import data\n",
      "  File \"c:\\ProgramData\\Anaconda3\\envs\\titanic\\lib\\site-packages\\tensorflow\\python\\data\\__init__.py\", line 25, in <module>\n",
      "    from tensorflow.python.data import experimental\n",
      "  File \"c:\\ProgramData\\Anaconda3\\envs\\titanic\\lib\\site-packages\\tensorflow\\python\\data\\experimental\\__init__.py\", line 98, in <module>\n",
      "    from tensorflow.python.data.experimental import service\n",
      "  File \"c:\\ProgramData\\Anaconda3\\envs\\titanic\\lib\\site-packages\\tensorflow\\python\\data\\experimental\\service\\__init__.py\", line 374, in <module>\n",
      "    from tensorflow.python.data.experimental.ops.data_service_ops import distribute\n",
      "  File \"c:\\ProgramData\\Anaconda3\\envs\\titanic\\lib\\site-packages\\tensorflow\\python\\data\\experimental\\ops\\data_service_ops.py\", line 27, in <module>\n",
      "    from tensorflow.python.data.experimental.ops import compression_ops\n",
      "  File \"c:\\ProgramData\\Anaconda3\\envs\\titanic\\lib\\site-packages\\tensorflow\\python\\data\\experimental\\ops\\compression_ops.py\", line 20, in <module>\n",
      "    from tensorflow.python.data.util import structure\n",
      "  File \"c:\\ProgramData\\Anaconda3\\envs\\titanic\\lib\\site-packages\\tensorflow\\python\\data\\util\\structure.py\", line 26, in <module>\n",
      "    from tensorflow.python.data.util import nest\n",
      "  File \"c:\\ProgramData\\Anaconda3\\envs\\titanic\\lib\\site-packages\\tensorflow\\python\\data\\util\\nest.py\", line 40, in <module>\n",
      "    from tensorflow.python.framework import sparse_tensor as _sparse_tensor\n",
      "  File \"c:\\ProgramData\\Anaconda3\\envs\\titanic\\lib\\site-packages\\tensorflow\\python\\framework\\sparse_tensor.py\", line 28, in <module>\n",
      "    from tensorflow.python.framework import constant_op\n",
      "  File \"c:\\ProgramData\\Anaconda3\\envs\\titanic\\lib\\site-packages\\tensorflow\\python\\framework\\constant_op.py\", line 29, in <module>\n",
      "    from tensorflow.python.eager import execute\n",
      "  File \"c:\\ProgramData\\Anaconda3\\envs\\titanic\\lib\\site-packages\\tensorflow\\python\\eager\\execute.py\", line 27, in <module>\n",
      "    from tensorflow.python.framework import dtypes\n",
      "  File \"c:\\ProgramData\\Anaconda3\\envs\\titanic\\lib\\site-packages\\tensorflow\\python\\framework\\dtypes.py\", line 28, in <module>\n",
      "    from tensorflow.python.framework import _dtypes\n",
      "ImportError: generic_type: type \"DType\" is already registered!\n",
      "\n",
      "During handling of the above exception, another exception occurred:\n",
      "\n",
      "Traceback (most recent call last):\n",
      "  File \"c:\\ProgramData\\Anaconda3\\envs\\titanic\\lib\\site-packages\\IPython\\core\\interactiveshell.py\", line 1992, in showtraceback\n",
      "    stb = self.InteractiveTB.structured_traceback(\n",
      "  File \"c:\\ProgramData\\Anaconda3\\envs\\titanic\\lib\\site-packages\\IPython\\core\\ultratb.py\", line 1118, in structured_traceback\n",
      "    return FormattedTB.structured_traceback(\n",
      "  File \"c:\\ProgramData\\Anaconda3\\envs\\titanic\\lib\\site-packages\\IPython\\core\\ultratb.py\", line 1012, in structured_traceback\n",
      "    return VerboseTB.structured_traceback(\n",
      "  File \"c:\\ProgramData\\Anaconda3\\envs\\titanic\\lib\\site-packages\\IPython\\core\\ultratb.py\", line 865, in structured_traceback\n",
      "    formatted_exception = self.format_exception_as_a_whole(etype, evalue, etb, number_of_lines_of_context,\n",
      "  File \"c:\\ProgramData\\Anaconda3\\envs\\titanic\\lib\\site-packages\\IPython\\core\\ultratb.py\", line 818, in format_exception_as_a_whole\n",
      "    frames.append(self.format_record(r))\n",
      "  File \"c:\\ProgramData\\Anaconda3\\envs\\titanic\\lib\\site-packages\\IPython\\core\\ultratb.py\", line 736, in format_record\n",
      "    result += ''.join(_format_traceback_lines(frame_info.lines, Colors, self.has_colors, lvals))\n",
      "  File \"c:\\ProgramData\\Anaconda3\\envs\\titanic\\lib\\site-packages\\stack_data\\utils.py\", line 145, in cached_property_wrapper\n",
      "    value = obj.__dict__[self.func.__name__] = self.func(obj)\n",
      "  File \"c:\\ProgramData\\Anaconda3\\envs\\titanic\\lib\\site-packages\\stack_data\\core.py\", line 698, in lines\n",
      "    pieces = self.included_pieces\n",
      "  File \"c:\\ProgramData\\Anaconda3\\envs\\titanic\\lib\\site-packages\\stack_data\\utils.py\", line 145, in cached_property_wrapper\n",
      "    value = obj.__dict__[self.func.__name__] = self.func(obj)\n",
      "  File \"c:\\ProgramData\\Anaconda3\\envs\\titanic\\lib\\site-packages\\stack_data\\core.py\", line 649, in included_pieces\n",
      "    pos = scope_pieces.index(self.executing_piece)\n",
      "  File \"c:\\ProgramData\\Anaconda3\\envs\\titanic\\lib\\site-packages\\stack_data\\utils.py\", line 145, in cached_property_wrapper\n",
      "    value = obj.__dict__[self.func.__name__] = self.func(obj)\n",
      "  File \"c:\\ProgramData\\Anaconda3\\envs\\titanic\\lib\\site-packages\\stack_data\\core.py\", line 628, in executing_piece\n",
      "    return only(\n",
      "  File \"c:\\ProgramData\\Anaconda3\\envs\\titanic\\lib\\site-packages\\executing\\executing.py\", line 164, in only\n",
      "    raise NotOneValueFound('Expected one value, found 0')\n",
      "executing.executing.NotOneValueFound: Expected one value, found 0\n"
     ]
    }
   ],
   "source": [
    "import tensorflow as tf\n",
    "import tensorflow_datasets as tfds\n",
    "import matplotlib.pyplot as plt\n",
    "\n",
    "dataset, info = tfds.load(\"fashion_mnist\", split=\"train\",  with_info=True)\n",
    "\n",
    "def convert(row):\n",
    "    image = tf.image.convert_image_dtype(row[\"image\"], tf.float32)\n",
    "    label = tf.cast(row[\"label\"], tf.float32)\n",
    "    return image, label\n",
    "\n",
    "batch_size = 32\n",
    "dataset = dataset.map(convert).batch(batch_size).prefetch(1)"
   ]
  },
  {
   "cell_type": "markdown",
   "id": "23dccb7a",
   "metadata": {},
   "source": [
    "### 조건부 GAN에서 생성기 정의"
   ]
  },
  {
   "cell_type": "code",
   "execution_count": 8,
   "id": "4053dc48",
   "metadata": {},
   "outputs": [],
   "source": [
    "def get_generator(latent_dimension):\n",
    "\n",
    "    # 조건 서브 네트워크 : 조건을 히든 표현으로 인코딩\n",
    "    condition = tf.keras.layers.Input((1,))\n",
    "    net = tf.keras.layers.Dense(32, activation=tf.nn.elu)(condition)\n",
    "    net = tf.keras.layers.Dense(64, activation=tf.nn.elu)(net)\n",
    "\n",
    "    # 히든 조건 표현을 노이즈와 업샘플에 연결\n",
    "    noise = tf.keras.layers.Input(latent_dimension)\n",
    "    inputs = tf.keras.layers.Concatenate()([noise, net])\n",
    "\n",
    "    # Convert inputs from (batch_size, latent_dimension + 1)\n",
    "    # (batch)size, latent_dimenstion + 1)인 inputs를\n",
    "    # 컨볼루션을 사용할 수 있는 4차원 텐서로 변경\n",
    "    inputs = tf.keras.layers.Reshape((1,1, inputs.shape[-1]))(inputs)\n",
    "    \n",
    "    depth = 128\n",
    "    kernel_size= 5\n",
    "    net = tf.keras.layers.Conv2DTranspose(\n",
    "        depth, kernel_size,\n",
    "        padding=\"valid\",\n",
    "        strides=1,\n",
    "        activation=tf.nn.relu)(inputs) # 5x5\n",
    "    net = tf.keras.layers.Conv2DTranspose(\n",
    "        depth//2, kernel_size,\n",
    "        padding=\"valid\",\n",
    "        strides=2,\n",
    "        activation=tf.nn.relu)(net) # 13x13\n",
    "    net = tf.keras.layers.Conv2DTranspose(\n",
    "        depth//4, kernel_size,\n",
    "        padding=\"valid\",\n",
    "        strides=2,\n",
    "        activation=tf.nn.relu,\n",
    "        use_bias=False)(net) # 29x29\n",
    "    \n",
    "    # 28x28x1 출력을 얻기 위해 2x2 커널과의 표준 컨볼루션\n",
    "    # 이미지가 [0,1] 범위에 있기 때문에 출력은 sigmoid를 사용한다.\n",
    "\n",
    "    net = tf.keras.layers.Conv2D(\n",
    "        1, 2,\n",
    "        padding=\"valid\",\n",
    "        strides=1,\n",
    "        activation=tf.nn.sigmoid,\n",
    "        use_bias=False)(net)\n",
    "\n",
    "    model = tf.keras.Model(inputs=[noise, condition], outputs=net)\n",
    "    return model    "
   ]
  },
  {
   "cell_type": "markdown",
   "id": "945b02b4",
   "metadata": {},
   "source": [
    "### 조건부 GAN에서 판별기 정의"
   ]
  },
  {
   "cell_type": "code",
   "execution_count": 12,
   "id": "d9415ee8",
   "metadata": {},
   "outputs": [],
   "source": [
    "def get_Discriminator():\n",
    "    # 인코더 서브네트워크: 피처 벡터를 얻는 피처 추출기\n",
    "    image = tf.keras.layers.Input((28,28,1))\n",
    "    depth = 32\n",
    "    kernel_size=3\n",
    "    net = tf.keras.layers.Conv2D(\n",
    "        depth, kernel_size,\n",
    "        padding=\"same\",\n",
    "        strides=2,\n",
    "        activation=tf.nn.relu)(image) # 14x14x32\n",
    "    net = tf.keras.layers.Conv2D(\n",
    "        depth*2, kernel_size,\n",
    "        padding=\"same\",\n",
    "        strides=2,\n",
    "        activation=tf.nn.relu)(net) # 7x7x64\n",
    "    net = tf.keras.layers.Conv2D(\n",
    "        depth*3, kernel_size,\n",
    "        padding=\"same\",\n",
    "        strides=2,\n",
    "        activation=tf.nn.relu)(net) # 4x4x96\n",
    "    feature_vector = tf.keras.layers.Flatten()(net) # 4*4*96\n",
    "\n",
    "    # 조건에 관한 히든 표현 만들기\n",
    "    condition = tf.keras.layers.Input((1,))\n",
    "    hidden = tf.keras.layers.Dense(32, activation=tf.nn.elu)(condition)\n",
    "    hidden = tf.keras.layers.Dense(64, activation=tf.nn.elu)(hidden)\n",
    "\n",
    "    # 피처 벡터와 히든 레이블 표현 연결\n",
    "    out = tf.keras.layers.Concatenate()([feature_vector, hidden])\n",
    "    \n",
    "    # 단일 선형 뉴런으로 이뤄진 최종 분류 레이어 추가\n",
    "    out = tf.keras.layers.Dense(128, activation=tf.nn.relu)(out)\n",
    "    out = tf.keras.layers.Dense(1)(out)\n",
    "    model = tf.keras.Model(inputs=[image, condition], outputs=out)\n",
    "    return model"
   ]
  },
  {
   "cell_type": "markdown",
   "id": "36398c47",
   "metadata": {},
   "source": [
    "### 적대적 훈련 과정"
   ]
  },
  {
   "cell_type": "code",
   "execution_count": 13,
   "id": "9595a56e",
   "metadata": {},
   "outputs": [],
   "source": [
    "bce = tf.keras.losses.BinaryCrossentropy(from_logits=True)\n",
    "\n",
    "def d_loss(d_real, d_fake):\n",
    "    \"\"\"판별기 손실함수\"\"\"\n",
    "    return bce(tf.ones_like(d_real), d_real) + bce(tf.zeros_like(d_fake),d_fake)\n",
    "def g_loss(generated_output):\n",
    "    \"\"\"생성기 손실함수\"\"\"\n",
    "    return bce(tf.ones_like(generated_output), generated_output)"
   ]
  },
  {
   "cell_type": "code",
   "execution_count": 18,
   "id": "73cfd2c0",
   "metadata": {},
   "outputs": [],
   "source": [
    "latent_dimension = 100\n",
    "G = get_generator(latent_dimension)\n",
    "D = get_Discriminator()\n",
    "\n",
    "def train():\n",
    "    \n",
    "    #옵티마이저 및 학습 연산을 정의한다.\n",
    "    optimizer = tf.keras.optimizers.Adam(1e-5)\n",
    "    @tf.function\n",
    "    def train_step(image, label):\n",
    "        with tf.GradientTape(persistent=True) as tape:\n",
    "            noise_vector = tf.random.normal(\n",
    "                mean=0, stddev=1,\n",
    "                shape=(image.shape[0], latent_dimension))\n",
    "\n",
    "            #샐성기에서 샘플링\n",
    "            fake_data = G([noise_vector, label])\n",
    "\n",
    "            # D 손실 계산\n",
    "            d_fake_data = D([fake_data, label])\n",
    "            d_real_data = D([image, label])\n",
    "            d_loss_value = d_loss(d_real_data, d_fake_data)\n",
    "\n",
    "            # G 손실 계산\n",
    "            g_loss_value = g_loss(d_fake_data)\n",
    "\n",
    "            # 이제 손실을 계산했으므로 그래디언트를 계산하고\n",
    "            # 네트워크를 최적화할 수 있다.\n",
    "            d_gradients = tape.gradient(d_loss_value, D.trainable_variables)\n",
    "            g_gradients = tape.gradient(g_loss_value, G.trainable_variables)\n",
    "            \n",
    "            # 테이프를 영구로 정의했기 때문에 테이프 삭제\n",
    "            del tape\n",
    "\n",
    "            optimizer.apply_gradients(zip(d_gradients, D.trainable_variables))\n",
    "            optimizer.apply_gradients(zip(g_gradients, G.trainable_variables))\n",
    "            return g_loss_value, d_loss_value, fake_data[0], label[0]\n",
    "\n",
    "    epochs = 10\n",
    "    epochs = 10\n",
    "    for epoch in range(epochs):\n",
    "        for image, label in dataset:\n",
    "            g_loss_value, d_loss_value, generated, condition = train_step(image, label)\n",
    "\n",
    "        print(\"epoch \", epoch, \"complete\")\n",
    "        print(\"loss:\", g_loss_value, \"d_loss: \", d_loss_value)\n",
    "        print(\"condition \", info.features[\"label\"].int2str(\n",
    "                tf.squeeze(tf.cast(condition, tf.int32)).numpy()))\n",
    "        plt.imshow(tf.squeeze(generated).numpy(), cmap=\"gray\")\n",
    "        plt.show()"
   ]
  },
  {
   "cell_type": "code",
   "execution_count": 20,
   "id": "a5443caf",
   "metadata": {},
   "outputs": [
    {
     "name": "stdout",
     "output_type": "stream",
     "text": [
      "epoch  0 complete\n",
      "loss: tf.Tensor(1.6442952, shape=(), dtype=float32) d_loss:  tf.Tensor(0.44109815, shape=(), dtype=float32)\n",
      "condition  Dress\n"
     ]
    },
    {
     "data": {
      "image/png": "[encoded data removed]",
      "text/plain": [
       "<Figure size 432x288 with 1 Axes>"
      ]
     },
     "metadata": {
      "needs_background": "light"
     },
     "output_type": "display_data"
    },
    {
     "name": "stdout",
     "output_type": "stream",
     "text": [
      "epoch  1 complete\n",
      "loss: tf.Tensor(2.7425761, shape=(), dtype=float32) d_loss:  tf.Tensor(0.112182096, shape=(), dtype=float32)\n",
      "condition  Dress\n"
     ]
    },
    {
     "data": {
      "image/png": "[encoded data removed]",
      "text/plain": [
       "<Figure size 432x288 with 1 Axes>"
      ]
     },
     "metadata": {
      "needs_background": "light"
     },
     "output_type": "display_data"
    },
    {
     "name": "stdout",
     "output_type": "stream",
     "text": [
      "epoch  2 complete\n",
      "loss: tf.Tensor(1.6316447, shape=(), dtype=float32) d_loss:  tf.Tensor(0.70613116, shape=(), dtype=float32)\n",
      "condition  Dress\n"
     ]
    },
    {
     "data": {
      "image/png": "[encoded data removed]",
      "text/plain": [
       "<Figure size 432x288 with 1 Axes>"
      ]
     },
     "metadata": {
      "needs_background": "light"
     },
     "output_type": "display_data"
    },
    {
     "name": "stdout",
     "output_type": "stream",
     "text": [
      "epoch  3 complete\n",
      "loss: tf.Tensor(1.6756175, shape=(), dtype=float32) d_loss:  tf.Tensor(0.72076905, shape=(), dtype=float32)\n",
      "condition  Dress\n"
     ]
    },
    {
     "data": {
      "image/png": "[encoded data removed]",
      "text/plain": [
       "<Figure size 432x288 with 1 Axes>"
      ]
     },
     "metadata": {
      "needs_background": "light"
     },
     "output_type": "display_data"
    },
    {
     "name": "stdout",
     "output_type": "stream",
     "text": [
      "epoch  4 complete\n",
      "loss: tf.Tensor(5.1789894, shape=(), dtype=float32) d_loss:  tf.Tensor(0.0082805725, shape=(), dtype=float32)\n",
      "condition  Dress\n"
     ]
    },
    {
     "data": {
      "image/png": "[encoded data removed]",
      "text/plain": [
       "<Figure size 432x288 with 1 Axes>"
      ]
     },
     "metadata": {
      "needs_background": "light"
     },
     "output_type": "display_data"
    },
    {
     "name": "stdout",
     "output_type": "stream",
     "text": [
      "epoch  5 complete\n",
      "loss: tf.Tensor(2.4098349, shape=(), dtype=float32) d_loss:  tf.Tensor(0.528023, shape=(), dtype=float32)\n",
      "condition  Dress\n"
     ]
    },
    {
     "data": {
      "image/png": "[encoded data removed]",
      "text/plain": [
       "<Figure size 432x288 with 1 Axes>"
      ]
     },
     "metadata": {
      "needs_background": "light"
     },
     "output_type": "display_data"
    },
    {
     "name": "stdout",
     "output_type": "stream",
     "text": [
      "epoch  6 complete\n",
      "loss: tf.Tensor(2.0438528, shape=(), dtype=float32) d_loss:  tf.Tensor(0.3869654, shape=(), dtype=float32)\n",
      "condition  Dress\n"
     ]
    },
    {
     "data": {
      "image/png": "[encoded data removed]",
      "text/plain": [
       "<Figure size 432x288 with 1 Axes>"
      ]
     },
     "metadata": {
      "needs_background": "light"
     },
     "output_type": "display_data"
    },
    {
     "name": "stdout",
     "output_type": "stream",
     "text": [
      "epoch  7 complete\n",
      "loss: tf.Tensor(1.6546965, shape=(), dtype=float32) d_loss:  tf.Tensor(0.61680853, shape=(), dtype=float32)\n",
      "condition  Dress\n"
     ]
    },
    {
     "data": {
      "image/png": "[encoded data removed]",
      "text/plain": [
       "<Figure size 432x288 with 1 Axes>"
      ]
     },
     "metadata": {
      "needs_background": "light"
     },
     "output_type": "display_data"
    },
    {
     "name": "stdout",
     "output_type": "stream",
     "text": [
      "epoch  8 complete\n",
      "loss: tf.Tensor(1.3896122, shape=(), dtype=float32) d_loss:  tf.Tensor(0.8388108, shape=(), dtype=float32)\n",
      "condition  Dress\n"
     ]
    },
    {
     "data": {
      "image/png": "[encoded data removed]",
      "text/plain": [
       "<Figure size 432x288 with 1 Axes>"
      ]
     },
     "metadata": {
      "needs_background": "light"
     },
     "output_type": "display_data"
    },
    {
     "name": "stdout",
     "output_type": "stream",
     "text": [
      "epoch  9 complete\n",
      "loss: tf.Tensor(1.9443148, shape=(), dtype=float32) d_loss:  tf.Tensor(0.5766391, shape=(), dtype=float32)\n",
      "condition  Dress\n"
     ]
    },
    {
     "data": {
      "image/png": "[encoded data removed]",
      "text/plain": [
       "<Figure size 432x288 with 1 Axes>"
      ]
     },
     "metadata": {
      "needs_background": "light"
     },
     "output_type": "display_data"
    }
   ],
   "source": [
    "train()"
   ]
  }
 ],
 "metadata": {
  "kernelspec": {
   "display_name": "Python 3.8.13 ('titanic')",
   "language": "python",
   "name": "python3"
  },
  "language_info": {
   "codemirror_mode": {
    "name": "ipython",
    "version": 3
   },
   "file_extension": ".py",
   "mimetype": "text/x-python",
   "name": "python",
   "nbconvert_exporter": "python",
   "pygments_lexer": "ipython3",
   "version": "3.9.12"
  },
  "vscode": {
   "interpreter": {
    "hash": "da0c1a6ed771a2b5c801e026af5d9aff0f025766fa8cddfed6c4e2595c28fe55"
   }
  }
 },
 "nbformat": 4,
 "nbformat_minor": 5
}

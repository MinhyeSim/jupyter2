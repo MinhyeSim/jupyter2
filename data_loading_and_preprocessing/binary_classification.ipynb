{
 "cells": [
  {
   "cell_type": "code",
   "execution_count": 1,
   "metadata": {},
   "outputs": [
    {
     "name": "stdout",
     "output_type": "stream",
     "text": [
      "2.7.0\n"
     ]
    }
   ],
   "source": [
    "import tensorflow as tf\n",
    "from tensorflow import keras\n",
    "\n",
    "import numpy as np\n",
    "\n",
    "print(tf.__version__)"
   ]
  },
  {
   "cell_type": "code",
   "execution_count": 2,
   "metadata": {},
   "outputs": [],
   "source": [
    "imdb = keras.datasets.imdb\n",
    "\n",
    "(train_data, train_labels), (test_data, test_labels) = imdb.load_data(num_words=10000)"
   ]
  },
  {
   "cell_type": "code",
   "execution_count": 3,
   "metadata": {},
   "outputs": [
    {
     "name": "stdout",
     "output_type": "stream",
     "text": [
      "훈련 샘플: 25000, 레이블: 25000\n"
     ]
    }
   ],
   "source": [
    "print(\"훈련 샘플: {}, 레이블: {}\".format(len(train_data), len(train_labels)))"
   ]
  },
  {
   "cell_type": "code",
   "execution_count": 4,
   "metadata": {},
   "outputs": [
    {
     "name": "stdout",
     "output_type": "stream",
     "text": [
      "[1, 14, 22, 16, 43, 530, 973, 1622, 1385, 65, 458, 4468, 66, 3941, 4, 173, 36, 256, 5, 25, 100, 43, 838, 112, 50, 670, 2, 9, 35, 480, 284, 5, 150, 4, 172, 112, 167, 2, 336, 385, 39, 4, 172, 4536, 1111, 17, 546, 38, 13, 447, 4, 192, 50, 16, 6, 147, 2025, 19, 14, 22, 4, 1920, 4613, 469, 4, 22, 71, 87, 12, 16, 43, 530, 38, 76, 15, 13, 1247, 4, 22, 17, 515, 17, 12, 16, 626, 18, 2, 5, 62, 386, 12, 8, 316, 8, 106, 5, 4, 2223, 5244, 16, 480, 66, 3785, 33, 4, 130, 12, 16, 38, 619, 5, 25, 124, 51, 36, 135, 48, 25, 1415, 33, 6, 22, 12, 215, 28, 77, 52, 5, 14, 407, 16, 82, 2, 8, 4, 107, 117, 5952, 15, 256, 4, 2, 7, 3766, 5, 723, 36, 71, 43, 530, 476, 26, 400, 317, 46, 7, 4, 2, 1029, 13, 104, 88, 4, 381, 15, 297, 98, 32, 2071, 56, 26, 141, 6, 194, 7486, 18, 4, 226, 22, 21, 134, 476, 26, 480, 5, 144, 30, 5535, 18, 51, 36, 28, 224, 92, 25, 104, 4, 226, 65, 16, 38, 1334, 88, 12, 16, 283, 5, 16, 4472, 113, 103, 32, 15, 16, 5345, 19, 178, 32]\n"
     ]
    }
   ],
   "source": [
    "print(train_data[0])"
   ]
  },
  {
   "cell_type": "code",
   "execution_count": 5,
   "metadata": {},
   "outputs": [
    {
     "data": {
      "text/plain": [
       "(218, 189)"
      ]
     },
     "execution_count": 5,
     "metadata": {},
     "output_type": "execute_result"
    }
   ],
   "source": [
    "len(train_data[0]), len(train_data[1])"
   ]
  },
  {
   "cell_type": "code",
   "execution_count": 6,
   "metadata": {},
   "outputs": [],
   "source": [
    "# 단어와 정수 인덱스를 매핑한 딕셔너리\n",
    "word_index = imdb.get_word_index()\n",
    "\n",
    "# 처음 몇 개 인덱스는 사전에 정의되어 있습니다\n",
    "word_index = {k:(v+3) for k,v in word_index.items()}\n",
    "word_index[\"<PAD>\"] = 0\n",
    "word_index[\"<START>\"] = 1\n",
    "word_index[\"<UNK>\"] = 2  # unknown\n",
    "word_index[\"<UNUSED>\"] = 3\n",
    "\n",
    "reverse_word_index = dict([(value, key) for (key, value) in word_index.items()])\n",
    "\n",
    "def decode_review(text):\n",
    "    return ' '.join([reverse_word_index.get(i, '?') for i in text])"
   ]
  },
  {
   "cell_type": "code",
   "execution_count": 7,
   "metadata": {},
   "outputs": [
    {
     "data": {
      "text/plain": [
       "\"<START> this film was just brilliant casting location scenery story direction everyone's really suited the part they played and you could just imagine being there robert <UNK> is an amazing actor and now the same being director <UNK> father came from the same scottish island as myself so i loved the fact there was a real connection with this film the witty remarks throughout the film were great it was just brilliant so much that i bought the film as soon as it was released for <UNK> and would recommend it to everyone to watch and the fly fishing was amazing really cried at the end it was so sad and you know what they say if you cry at a film it must have been good and this definitely was also <UNK> to the two little boy's that played the <UNK> of norman and paul they were just brilliant children are often left out of the <UNK> list i think because the stars that play them all grown up are such a big profile for the whole film but these children are amazing and should be praised for what they have done don't you think the whole story was so lovely because it was true and was someone's life after all that was shared with us all\""
      ]
     },
     "execution_count": 7,
     "metadata": {},
     "output_type": "execute_result"
    }
   ],
   "source": [
    "decode_review(train_data[0])"
   ]
  },
  {
   "cell_type": "code",
   "execution_count": 8,
   "metadata": {},
   "outputs": [],
   "source": [
    "train_data = keras.preprocessing.sequence.pad_sequences(train_data,\n",
    "                                                        value=word_index[\"<PAD>\"],\n",
    "                                                        padding='post',\n",
    "                                                        maxlen=256)\n",
    "\n",
    "test_data = keras.preprocessing.sequence.pad_sequences(test_data,\n",
    "                                                       value=word_index[\"<PAD>\"],\n",
    "                                                       padding='post',\n",
    "                                                       maxlen=256)"
   ]
  },
  {
   "cell_type": "code",
   "execution_count": 9,
   "metadata": {},
   "outputs": [
    {
     "data": {
      "text/plain": [
       "(256, 256)"
      ]
     },
     "execution_count": 9,
     "metadata": {},
     "output_type": "execute_result"
    }
   ],
   "source": [
    "len(train_data[0]), len(train_data[1])"
   ]
  },
  {
   "cell_type": "code",
   "execution_count": 10,
   "metadata": {},
   "outputs": [
    {
     "name": "stdout",
     "output_type": "stream",
     "text": [
      "[   1   14   22   16   43  530  973 1622 1385   65  458 4468   66 3941\n",
      "    4  173   36  256    5   25  100   43  838  112   50  670    2    9\n",
      "   35  480  284    5  150    4  172  112  167    2  336  385   39    4\n",
      "  172 4536 1111   17  546   38   13  447    4  192   50   16    6  147\n",
      " 2025   19   14   22    4 1920 4613  469    4   22   71   87   12   16\n",
      "   43  530   38   76   15   13 1247    4   22   17  515   17   12   16\n",
      "  626   18    2    5   62  386   12    8  316    8  106    5    4 2223\n",
      " 5244   16  480   66 3785   33    4  130   12   16   38  619    5   25\n",
      "  124   51   36  135   48   25 1415   33    6   22   12  215   28   77\n",
      "   52    5   14  407   16   82    2    8    4  107  117 5952   15  256\n",
      "    4    2    7 3766    5  723   36   71   43  530  476   26  400  317\n",
      "   46    7    4    2 1029   13  104   88    4  381   15  297   98   32\n",
      " 2071   56   26  141    6  194 7486   18    4  226   22   21  134  476\n",
      "   26  480    5  144   30 5535   18   51   36   28  224   92   25  104\n",
      "    4  226   65   16   38 1334   88   12   16  283    5   16 4472  113\n",
      "  103   32   15   16 5345   19  178   32    0    0    0    0    0    0\n",
      "    0    0    0    0    0    0    0    0    0    0    0    0    0    0\n",
      "    0    0    0    0    0    0    0    0    0    0    0    0    0    0\n",
      "    0    0    0    0]\n"
     ]
    }
   ],
   "source": [
    "print(train_data[0])"
   ]
  },
  {
   "cell_type": "code",
   "execution_count": 11,
   "metadata": {},
   "outputs": [
    {
     "name": "stdout",
     "output_type": "stream",
     "text": [
      "Model: \"sequential\"\n",
      "_________________________________________________________________\n",
      " Layer (type)                Output Shape              Param #   \n",
      "=================================================================\n",
      " embedding (Embedding)       (None, None, 16)          160000    \n",
      "                                                                 \n",
      " global_average_pooling1d (G  (None, 16)               0         \n",
      " lobalAveragePooling1D)                                          \n",
      "                                                                 \n",
      " dense (Dense)               (None, 16)                272       \n",
      "                                                                 \n",
      " dense_1 (Dense)             (None, 1)                 17        \n",
      "                                                                 \n",
      "=================================================================\n",
      "Total params: 160,289\n",
      "Trainable params: 160,289\n",
      "Non-trainable params: 0\n",
      "_________________________________________________________________\n"
     ]
    }
   ],
   "source": [
    "# 입력 크기는 영화 리뷰 데이터셋에 적용된 어휘 사전의 크기입니다(10,000개의 단어)\n",
    "vocab_size = 10000\n",
    "\n",
    "model = keras.Sequential()\n",
    "model.add(keras.layers.Embedding(vocab_size, 16, input_shape=(None,)))\n",
    "model.add(keras.layers.GlobalAveragePooling1D())\n",
    "model.add(keras.layers.Dense(16, activation='relu'))\n",
    "model.add(keras.layers.Dense(1, activation='sigmoid'))\n",
    "\n",
    "model.summary()"
   ]
  },
  {
   "cell_type": "code",
   "execution_count": 12,
   "metadata": {},
   "outputs": [],
   "source": [
    "model.compile(optimizer='adam',\n",
    "              loss='binary_crossentropy',\n",
    "              metrics=['accuracy'])"
   ]
  },
  {
   "cell_type": "code",
   "execution_count": 13,
   "metadata": {},
   "outputs": [],
   "source": [
    "x_val = train_data[:10000]\n",
    "partial_x_train = train_data[10000:]\n",
    "\n",
    "y_val = train_labels[:10000]\n",
    "partial_y_train = train_labels[10000:]"
   ]
  },
  {
   "cell_type": "code",
   "execution_count": 14,
   "metadata": {},
   "outputs": [
    {
     "name": "stdout",
     "output_type": "stream",
     "text": [
      "Epoch 1/40\n",
      "30/30 [==============================] - 1s 23ms/step - loss: 0.6921 - accuracy: 0.5697 - val_loss: 0.6904 - val_accuracy: 0.7276\n",
      "Epoch 2/40\n",
      "30/30 [==============================] - 0s 16ms/step - loss: 0.6870 - accuracy: 0.7355 - val_loss: 0.6828 - val_accuracy: 0.7190\n",
      "Epoch 3/40\n",
      "30/30 [==============================] - 1s 17ms/step - loss: 0.6745 - accuracy: 0.7613 - val_loss: 0.6669 - val_accuracy: 0.7590\n",
      "Epoch 4/40\n",
      "30/30 [==============================] - 0s 16ms/step - loss: 0.6524 - accuracy: 0.7705 - val_loss: 0.6414 - val_accuracy: 0.7750\n",
      "Epoch 5/40\n",
      "30/30 [==============================] - 1s 17ms/step - loss: 0.6191 - accuracy: 0.7953 - val_loss: 0.6061 - val_accuracy: 0.7828\n",
      "Epoch 6/40\n",
      "30/30 [==============================] - 0s 16ms/step - loss: 0.5756 - accuracy: 0.8108 - val_loss: 0.5626 - val_accuracy: 0.8010\n",
      "Epoch 7/40\n",
      "30/30 [==============================] - 0s 16ms/step - loss: 0.5254 - accuracy: 0.8297 - val_loss: 0.5164 - val_accuracy: 0.8164\n",
      "Epoch 8/40\n",
      "30/30 [==============================] - 1s 20ms/step - loss: 0.4753 - accuracy: 0.8455 - val_loss: 0.4729 - val_accuracy: 0.8319\n",
      "Epoch 9/40\n",
      "30/30 [==============================] - 0s 17ms/step - loss: 0.4297 - accuracy: 0.8613 - val_loss: 0.4365 - val_accuracy: 0.8418\n",
      "Epoch 10/40\n",
      "30/30 [==============================] - 0s 16ms/step - loss: 0.3905 - accuracy: 0.8727 - val_loss: 0.4051 - val_accuracy: 0.8507\n",
      "Epoch 11/40\n",
      "30/30 [==============================] - 0s 15ms/step - loss: 0.3575 - accuracy: 0.8818 - val_loss: 0.3803 - val_accuracy: 0.8579\n",
      "Epoch 12/40\n",
      "30/30 [==============================] - 0s 15ms/step - loss: 0.3308 - accuracy: 0.8886 - val_loss: 0.3607 - val_accuracy: 0.8634\n",
      "Epoch 13/40\n",
      "30/30 [==============================] - 0s 15ms/step - loss: 0.3075 - accuracy: 0.8951 - val_loss: 0.3456 - val_accuracy: 0.8688\n",
      "Epoch 14/40\n",
      "30/30 [==============================] - 0s 16ms/step - loss: 0.2880 - accuracy: 0.9014 - val_loss: 0.3330 - val_accuracy: 0.8718\n",
      "Epoch 15/40\n",
      "30/30 [==============================] - 0s 15ms/step - loss: 0.2707 - accuracy: 0.9078 - val_loss: 0.3229 - val_accuracy: 0.8763\n",
      "Epoch 16/40\n",
      "30/30 [==============================] - 0s 16ms/step - loss: 0.2557 - accuracy: 0.9111 - val_loss: 0.3145 - val_accuracy: 0.8767\n",
      "Epoch 17/40\n",
      "30/30 [==============================] - 0s 16ms/step - loss: 0.2421 - accuracy: 0.9175 - val_loss: 0.3079 - val_accuracy: 0.8797\n",
      "Epoch 18/40\n",
      "30/30 [==============================] - 0s 15ms/step - loss: 0.2300 - accuracy: 0.9214 - val_loss: 0.3028 - val_accuracy: 0.8802\n",
      "Epoch 19/40\n",
      "30/30 [==============================] - 0s 16ms/step - loss: 0.2185 - accuracy: 0.9245 - val_loss: 0.2979 - val_accuracy: 0.8819\n",
      "Epoch 20/40\n",
      "30/30 [==============================] - 0s 15ms/step - loss: 0.2082 - accuracy: 0.9284 - val_loss: 0.2941 - val_accuracy: 0.8828\n",
      "Epoch 21/40\n",
      "30/30 [==============================] - 0s 16ms/step - loss: 0.1988 - accuracy: 0.9325 - val_loss: 0.2924 - val_accuracy: 0.8823\n",
      "Epoch 22/40\n",
      "30/30 [==============================] - 0s 15ms/step - loss: 0.1905 - accuracy: 0.9362 - val_loss: 0.2895 - val_accuracy: 0.8840\n",
      "Epoch 23/40\n",
      "30/30 [==============================] - 0s 15ms/step - loss: 0.1822 - accuracy: 0.9384 - val_loss: 0.2891 - val_accuracy: 0.8838\n",
      "Epoch 24/40\n",
      "30/30 [==============================] - 0s 15ms/step - loss: 0.1740 - accuracy: 0.9434 - val_loss: 0.2864 - val_accuracy: 0.8846\n",
      "Epoch 25/40\n",
      "30/30 [==============================] - 0s 16ms/step - loss: 0.1664 - accuracy: 0.9473 - val_loss: 0.2857 - val_accuracy: 0.8853\n",
      "Epoch 26/40\n",
      "30/30 [==============================] - 0s 16ms/step - loss: 0.1597 - accuracy: 0.9493 - val_loss: 0.2862 - val_accuracy: 0.8847\n",
      "Epoch 27/40\n",
      "30/30 [==============================] - 0s 15ms/step - loss: 0.1534 - accuracy: 0.9516 - val_loss: 0.2858 - val_accuracy: 0.8860\n",
      "Epoch 28/40\n",
      "30/30 [==============================] - 0s 16ms/step - loss: 0.1470 - accuracy: 0.9545 - val_loss: 0.2864 - val_accuracy: 0.8850\n",
      "Epoch 29/40\n",
      "30/30 [==============================] - 0s 15ms/step - loss: 0.1412 - accuracy: 0.9569 - val_loss: 0.2886 - val_accuracy: 0.8836\n",
      "Epoch 30/40\n",
      "30/30 [==============================] - 0s 16ms/step - loss: 0.1354 - accuracy: 0.9594 - val_loss: 0.2891 - val_accuracy: 0.8861\n",
      "Epoch 31/40\n",
      "30/30 [==============================] - 0s 16ms/step - loss: 0.1303 - accuracy: 0.9619 - val_loss: 0.2895 - val_accuracy: 0.8857\n",
      "Epoch 32/40\n",
      "30/30 [==============================] - 0s 15ms/step - loss: 0.1250 - accuracy: 0.9642 - val_loss: 0.2916 - val_accuracy: 0.8859\n",
      "Epoch 33/40\n",
      "30/30 [==============================] - 0s 15ms/step - loss: 0.1202 - accuracy: 0.9653 - val_loss: 0.2936 - val_accuracy: 0.8854\n",
      "Epoch 34/40\n",
      "30/30 [==============================] - 0s 15ms/step - loss: 0.1156 - accuracy: 0.9674 - val_loss: 0.2970 - val_accuracy: 0.8852\n",
      "Epoch 35/40\n",
      "30/30 [==============================] - 0s 16ms/step - loss: 0.1112 - accuracy: 0.9687 - val_loss: 0.2981 - val_accuracy: 0.8841\n",
      "Epoch 36/40\n",
      "30/30 [==============================] - 0s 15ms/step - loss: 0.1069 - accuracy: 0.9706 - val_loss: 0.3006 - val_accuracy: 0.8844\n",
      "Epoch 37/40\n",
      "30/30 [==============================] - 0s 16ms/step - loss: 0.1027 - accuracy: 0.9721 - val_loss: 0.3039 - val_accuracy: 0.8837\n",
      "Epoch 38/40\n",
      "30/30 [==============================] - 0s 16ms/step - loss: 0.0989 - accuracy: 0.9735 - val_loss: 0.3062 - val_accuracy: 0.8834\n",
      "Epoch 39/40\n",
      "30/30 [==============================] - 0s 15ms/step - loss: 0.0948 - accuracy: 0.9752 - val_loss: 0.3117 - val_accuracy: 0.8807\n",
      "Epoch 40/40\n",
      "30/30 [==============================] - 0s 15ms/step - loss: 0.0916 - accuracy: 0.9762 - val_loss: 0.3127 - val_accuracy: 0.8820\n"
     ]
    }
   ],
   "source": [
    "history = model.fit(partial_x_train,\n",
    "                    partial_y_train,\n",
    "                    epochs=40,\n",
    "                    batch_size=512,\n",
    "                    validation_data=(x_val, y_val),\n",
    "                    verbose=1)"
   ]
  },
  {
   "cell_type": "code",
   "execution_count": 15,
   "metadata": {},
   "outputs": [
    {
     "name": "stdout",
     "output_type": "stream",
     "text": [
      "782/782 - 1s - loss: 0.3330 - accuracy: 0.8722 - 594ms/epoch - 760us/step\n",
      "[0.3329762816429138, 0.8722400069236755]\n"
     ]
    }
   ],
   "source": [
    "results = model.evaluate(test_data,  test_labels, verbose=2)\n",
    "\n",
    "print(results)"
   ]
  },
  {
   "cell_type": "code",
   "execution_count": 16,
   "metadata": {},
   "outputs": [
    {
     "data": {
      "text/plain": [
       "dict_keys(['loss', 'accuracy', 'val_loss', 'val_accuracy'])"
      ]
     },
     "execution_count": 16,
     "metadata": {},
     "output_type": "execute_result"
    }
   ],
   "source": [
    "history_dict = history.history\n",
    "history_dict.keys()"
   ]
  },
  {
   "cell_type": "code",
   "execution_count": 17,
   "metadata": {},
   "outputs": [
    {
     "data": {
      "image/png": "[encoded data removed]",
      "text/plain": [
       "<Figure size 432x288 with 1 Axes>"
      ]
     },
     "metadata": {
      "needs_background": "light"
     },
     "output_type": "display_data"
    }
   ],
   "source": [
    "import matplotlib.pyplot as plt\n",
    "\n",
    "acc = history_dict['accuracy']\n",
    "val_acc = history_dict['val_accuracy']\n",
    "loss = history_dict['loss']\n",
    "val_loss = history_dict['val_loss']\n",
    "\n",
    "epochs = range(1, len(acc) + 1)\n",
    "\n",
    "# \"bo\"는 \"파란색 점\"입니다\n",
    "plt.plot(epochs, loss, 'bo', label='Training loss')\n",
    "# b는 \"파란 실선\"입니다\n",
    "plt.plot(epochs, val_loss, 'b', label='Validation loss')\n",
    "plt.title('Training and validation loss')\n",
    "plt.xlabel('Epochs')\n",
    "plt.ylabel('Loss')\n",
    "plt.legend()\n",
    "\n",
    "plt.show()"
   ]
  },
  {
   "cell_type": "code",
   "execution_count": 18,
   "metadata": {},
   "outputs": [
    {
     "data": {
      "image/png": "[encoded data removed]",
      "text/plain": [
       "<Figure size 432x288 with 1 Axes>"
      ]
     },
     "metadata": {
      "needs_background": "light"
     },
     "output_type": "display_data"
    }
   ],
   "source": [
    "plt.clf()   # 그림을 초기화합니다\n",
    "\n",
    "plt.plot(epochs, acc, 'bo', label='Training acc')\n",
    "plt.plot(epochs, val_acc, 'b', label='Validation acc')\n",
    "plt.title('Training and validation accuracy')\n",
    "plt.xlabel('Epochs')\n",
    "plt.ylabel('Accuracy')\n",
    "plt.legend()\n",
    "\n",
    "plt.show()"
   ]
  }
 ],
 "metadata": {
  "kernelspec": {
   "display_name": "Python 3.9.12 ('titanic')",
   "language": "python",
   "name": "python3"
  },
  "language_info": {
   "codemirror_mode": {
    "name": "ipython",
    "version": 3
   },
   "file_extension": ".py",
   "mimetype": "text/x-python",
   "name": "python",
   "nbconvert_exporter": "python",
   "pygments_lexer": "ipython3",
   "version": "3.9.12"
  },
  "orig_nbformat": 4,
  "vscode": {
   "interpreter": {
    "hash": "da0c1a6ed771a2b5c801e026af5d9aff0f025766fa8cddfed6c4e2595c28fe55"
   }
  }
 },
 "nbformat": 4,
 "nbformat_minor": 2
}
